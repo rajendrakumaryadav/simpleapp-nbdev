{
 "cells": [
  {
   "cell_type": "raw",
   "source": [
    "---\n",
    "title: app\n",
    "author: Rajendra Kumar R Yadav\n",
    "date: 2023-10-21\n",
    "description: This is a demo project. It is not intended to be used in production.\n",
    "tags: [nbdev, quarto, python, jupyter, demo]\n",
    "toc: true\n",
    "hide: false\n",
    "search_exclude: false\n",
    "format:\n",
    "    html:\n",
    "        code-fold: true\n",
    "---"
   ],
   "metadata": {
    "collapsed": false
   },
   "id": "7933548eed389ee8"
  },
  {
   "cell_type": "code",
   "execution_count": 7,
   "outputs": [],
   "source": [
    "#| export\n",
    "import sys\n",
    "from fastcore.script import *\n",
    "import logging"
   ],
   "metadata": {
    "collapsed": false,
    "ExecuteTime": {
     "end_time": "2023-10-21T08:14:14.986470Z",
     "start_time": "2023-10-21T08:14:14.962950100Z"
    }
   },
   "id": "250b773db0f999dd"
  },
  {
   "cell_type": "code",
   "execution_count": 8,
   "outputs": [],
   "source": [
    "#| export\n",
    "logger = logging.getLogger(__name__)\n",
    "# format\n",
    "logging.basicConfig(format='%(asctime)s %(levelname)s - %(message)s', datefmt='%m/%d/%Y %I:%M:%S %p')\n",
    "# set level\n",
    "logger.setLevel(logging.DEBUG)\n",
    "def print_sys_info():\n",
    "    logger.info(\"Python Version: %s\", sys.version)\n",
    "    logger.info(\"Python Executable: %s\", sys.executable)\n",
    "    logger.info(\"Python Platform: %s\", sys.platform)\n",
    "    logger.info(\"Python Prefix: %s\", sys.prefix)\n",
    "    logger.info(\"Python Executable: %s\", sys.executable)"
   ],
   "metadata": {
    "collapsed": false,
    "ExecuteTime": {
     "end_time": "2023-10-21T08:14:15.023562200Z",
     "start_time": "2023-10-21T08:14:14.974257100Z"
    }
   },
   "id": "63495419803fa0cb"
  },
  {
   "cell_type": "code",
   "execution_count": 9,
   "outputs": [
    {
     "name": "stderr",
     "output_type": "stream",
     "text": [
      "10/21/2023 01:44:14 PM INFO - Python Version: 3.11.5 | packaged by Anaconda, Inc. | (main, Sep 11 2023, 13:26:23) [MSC v.1916 64 bit (AMD64)]\n",
      "10/21/2023 01:44:14 PM INFO - Python Executable: C:\\Users\\rajen\\.conda\\envs\\py3.11\\python.exe\n",
      "10/21/2023 01:44:14 PM INFO - Python Platform: win32\n",
      "10/21/2023 01:44:14 PM INFO - Python Prefix: C:\\Users\\rajen\\.conda\\envs\\py3.11\n",
      "10/21/2023 01:44:14 PM INFO - Python Executable: C:\\Users\\rajen\\.conda\\envs\\py3.11\\python.exe\n"
     ]
    }
   ],
   "source": [
    "#| hide\n",
    "print_sys_info()"
   ],
   "metadata": {
    "collapsed": false,
    "ExecuteTime": {
     "end_time": "2023-10-21T08:14:15.025616500Z",
     "start_time": "2023-10-21T08:14:14.990471100Z"
    }
   },
   "id": "47996ea8915b4cdf"
  },
  {
   "cell_type": "code",
   "execution_count": 10,
   "outputs": [],
   "source": [
    "#| export\n",
    "@call_parse\n",
    "def main():\n",
    "    print_sys_info()"
   ],
   "metadata": {
    "collapsed": false,
    "ExecuteTime": {
     "end_time": "2023-10-21T08:14:15.043334500Z",
     "start_time": "2023-10-21T08:14:15.010564300Z"
    }
   },
   "id": "bf3fec8b124a0435"
  },
  {
   "cell_type": "code",
   "execution_count": 11,
   "outputs": [
    {
     "name": "stderr",
     "output_type": "stream",
     "text": [
      "C:\\Users\\rajen\\.conda\\envs\\py3.11\\Lib\\site-packages\\nbdev\\export.py:54: UserWarning: Notebook 'C:\\Users\\rajen\\PycharmProjects\\simpleapp\\nbs\\001_app.ipynb' uses `#|export` without `#|default_exp` cell.\n",
      "Note nbdev2 no longer supports nbdev1 syntax. Run `nbdev_migrate` to upgrade.\n",
      "See https://nbdev.fast.ai/getting_started.html for more information.\n",
      "  warn(f\"Notebook '{nbname}' uses `#|export` without `#|default_exp` cell.\\n\"\n"
     ]
    }
   ],
   "source": [
    "#| hide\n",
    "from nbdev import *\n",
    "nbdev_export()"
   ],
   "metadata": {
    "collapsed": false,
    "ExecuteTime": {
     "end_time": "2023-10-21T08:14:15.152886900Z",
     "start_time": "2023-10-21T08:14:15.041335700Z"
    }
   },
   "id": "ac80203554391f5c"
  },
  {
   "cell_type": "code",
   "execution_count": 11,
   "outputs": [],
   "source": [],
   "metadata": {
    "collapsed": false,
    "ExecuteTime": {
     "end_time": "2023-10-21T08:14:15.153883800Z",
     "start_time": "2023-10-21T08:14:15.137477500Z"
    }
   },
   "id": "c3cb29fded144a08"
  }
 ],
 "metadata": {
  "kernelspec": {
   "display_name": "Python 3",
   "language": "python",
   "name": "python3"
  },
  "language_info": {
   "codemirror_mode": {
    "name": "ipython",
    "version": 2
   },
   "file_extension": ".py",
   "mimetype": "text/x-python",
   "name": "python",
   "nbconvert_exporter": "python",
   "pygments_lexer": "ipython2",
   "version": "2.7.6"
  }
 },
 "nbformat": 4,
 "nbformat_minor": 5
}
