{
 "cells": [
  {
   "cell_type": "code",
   "execution_count": 66,
   "id": "initial_id",
   "metadata": {
    "collapsed": true,
    "ExecuteTime": {
     "end_time": "2023-10-18T19:12:30.465758200Z",
     "start_time": "2023-10-18T19:12:30.374469700Z"
    }
   },
   "outputs": [],
   "source": [
    "#| default_exp app"
   ]
  },
  {
   "cell_type": "code",
   "execution_count": 2,
   "outputs": [],
   "source": [
    "#| export\n",
    "import sys\n",
    "from fastcore.script import *\n",
    "import logging"
   ],
   "metadata": {
    "collapsed": false,
    "ExecuteTime": {
     "end_time": "2023-10-21T06:06:09.590666400Z",
     "start_time": "2023-10-21T06:06:09.569283100Z"
    }
   },
   "id": "250b773db0f999dd"
  },
  {
   "cell_type": "code",
   "execution_count": 3,
   "outputs": [],
   "source": [
    "#| export\n",
    "logger = logging.getLogger(__name__)\n",
    "# format\n",
    "logging.basicConfig(format='%(asctime)s %(levelname)s - %(message)s', datefmt='%m/%d/%Y %I:%M:%S %p')\n",
    "# set level\n",
    "logger.setLevel(logging.DEBUG)\n",
    "def print_sys_info():\n",
    "    logger.info(\"Python Version: %s\", sys.version)\n",
    "    logger.info(\"Python Executable: %s\", sys.executable)\n",
    "    logger.info(\"Python Platform: %s\", sys.platform)\n",
    "    logger.info(\"Python Prefix: %s\", sys.prefix)\n",
    "    logger.info(\"Python Executable: %s\", sys.executable)"
   ],
   "metadata": {
    "collapsed": false,
    "ExecuteTime": {
     "end_time": "2023-10-21T06:06:10.173038100Z",
     "start_time": "2023-10-21T06:06:10.150531Z"
    }
   },
   "id": "63495419803fa0cb"
  },
  {
   "cell_type": "code",
   "execution_count": 4,
   "outputs": [
    {
     "name": "stderr",
     "output_type": "stream",
     "text": [
      "10/21/2023 11:36:21 AM INFO - Python Version: 3.11.5 | packaged by Anaconda, Inc. | (main, Sep 11 2023, 13:26:23) [MSC v.1916 64 bit (AMD64)]\n",
      "10/21/2023 11:36:21 AM INFO - Python Executable: C:\\Users\\rajen\\.conda\\envs\\py3.11\\python.exe\n",
      "10/21/2023 11:36:21 AM INFO - Python Platform: win32\n",
      "10/21/2023 11:36:21 AM INFO - Python Prefix: C:\\Users\\rajen\\.conda\\envs\\py3.11\n",
      "10/21/2023 11:36:21 AM INFO - Python Executable: C:\\Users\\rajen\\.conda\\envs\\py3.11\\python.exe\n"
     ]
    }
   ],
   "source": [
    "#| hide\n",
    "print_sys_info()"
   ],
   "metadata": {
    "collapsed": false,
    "ExecuteTime": {
     "end_time": "2023-10-21T06:06:21.478449100Z",
     "start_time": "2023-10-21T06:06:21.418374500Z"
    }
   },
   "id": "47996ea8915b4cdf"
  },
  {
   "cell_type": "code",
   "execution_count": 8,
   "outputs": [],
   "source": [
    "#| export\n",
    "@call_parse\n",
    "def main():\n",
    "    print_sys_info()"
   ],
   "metadata": {
    "collapsed": false,
    "ExecuteTime": {
     "end_time": "2023-10-21T06:07:54.895057700Z",
     "start_time": "2023-10-21T06:07:54.861060400Z"
    }
   },
   "id": "bf3fec8b124a0435"
  },
  {
   "cell_type": "code",
   "execution_count": 6,
   "outputs": [],
   "source": [
    "#| hide\n",
    "from nbdev import *\n",
    "nbdev_export()"
   ],
   "metadata": {
    "collapsed": false,
    "ExecuteTime": {
     "end_time": "2023-10-21T06:06:27.153730700Z",
     "start_time": "2023-10-21T06:06:26.944550Z"
    }
   },
   "id": "ac80203554391f5c"
  },
  {
   "cell_type": "code",
   "execution_count": 71,
   "outputs": [],
   "source": [],
   "metadata": {
    "collapsed": false,
    "ExecuteTime": {
     "end_time": "2023-10-18T19:12:30.618002800Z",
     "start_time": "2023-10-18T19:12:30.585021800Z"
    }
   },
   "id": "c3cb29fded144a08"
  }
 ],
 "metadata": {
  "kernelspec": {
   "display_name": "Python 3",
   "language": "python",
   "name": "python3"
  },
  "language_info": {
   "codemirror_mode": {
    "name": "ipython",
    "version": 2
   },
   "file_extension": ".py",
   "mimetype": "text/x-python",
   "name": "python",
   "nbconvert_exporter": "python",
   "pygments_lexer": "ipython2",
   "version": "2.7.6"
  }
 },
 "nbformat": 4,
 "nbformat_minor": 5
}
