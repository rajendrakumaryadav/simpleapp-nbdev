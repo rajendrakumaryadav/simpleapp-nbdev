{
 "cells": [
  {
   "cell_type": "markdown",
   "source": [
    "---\n",
    "title: Simple Application Guide\n",
    "author: Rajendra Kumar R Yadav\n",
    "date: '`r format(Sys.Date(), \"%B %d, %Y\")`'\n",
    "format:\n",
    "    html:\n",
    "        code-fold: true\n",
    "---"
   ],
   "metadata": {
    "collapsed": false
   }
  },
  {
   "cell_type": "code",
   "execution_count": 9,
   "metadata": {
    "ExecuteTime": {
     "end_time": "2023-10-21T07:48:20.534142500Z",
     "start_time": "2023-10-21T07:48:20.469116200Z"
    }
   },
   "outputs": [],
   "source": [
    "#| hide\n",
    "from simpleapp.core import *"
   ]
  },
  {
   "cell_type": "markdown",
   "metadata": {},
   "source": [
    "# Simple Application - Demo\n",
    "\n",
    "> Simple Application"
   ]
  },
  {
   "cell_type": "markdown",
   "metadata": {},
   "source": [
    "This is simple cli application that prints information about Python and the system it is running on.\n",
    "It is build using [nbdev](https://nbdev.fast.ai/) and [quarto](https://quarto.org/) and point of curiosity.\n",
    "It does not considering itself a serious project. It is simple demo of how to use nbdev and quarto.\n",
    "\n",
    "> Note: This is a demo project. It is not intended to be used in production."
   ]
  },
  {
   "cell_type": "markdown",
   "source": [
    "### Flow of the Project"
   ],
   "metadata": {
    "collapsed": false
   }
  },
  {
   "cell_type": "markdown",
   "source": [
    "```{mermaid}\n",
    "flowchart LR\n",
    "  A[simpleapp] --> B(app)\n",
    "  B --> C{print_sys_info()}\n",
    "  C --> D[Final Result]\n",
    "```"
   ],
   "metadata": {
    "collapsed": false
   }
  },
  {
   "cell_type": "markdown",
   "metadata": {},
   "source": [
    "## Install"
   ]
  },
  {
   "cell_type": "markdown",
   "metadata": {},
   "source": [
    "```sh\n",
    "pip install simplepapp\n",
    "```"
   ]
  },
  {
   "cell_type": "markdown",
   "metadata": {},
   "source": [
    "## How to use"
   ]
  },
  {
   "cell_type": "markdown",
   "metadata": {},
   "source": [
    "Import the library"
   ]
  },
  {
   "cell_type": "code",
   "execution_count": 10,
   "metadata": {
    "ExecuteTime": {
     "end_time": "2023-10-21T07:48:20.638159900Z",
     "start_time": "2023-10-21T07:48:20.497928800Z"
    }
   },
   "outputs": [],
   "source": [
    "from simpleapp.app import *"
   ]
  },
  {
   "cell_type": "code",
   "execution_count": 11,
   "outputs": [
    {
     "name": "stderr",
     "output_type": "stream",
     "text": [
      "10/21/2023 01:18:20 PM INFO - Python Version: 3.11.5 | packaged by Anaconda, Inc. | (main, Sep 11 2023, 13:26:23) [MSC v.1916 64 bit (AMD64)]\n",
      "10/21/2023 01:18:20 PM INFO - Python Executable: C:\\Users\\rajen\\.conda\\envs\\py3.11\\python.exe\n",
      "10/21/2023 01:18:20 PM INFO - Python Platform: win32\n",
      "10/21/2023 01:18:20 PM INFO - Python Prefix: C:\\Users\\rajen\\.conda\\envs\\py3.11\n",
      "10/21/2023 01:18:20 PM INFO - Python Executable: C:\\Users\\rajen\\.conda\\envs\\py3.11\\python.exe\n"
     ]
    }
   ],
   "source": [
    "print_sys_info()"
   ],
   "metadata": {
    "collapsed": false,
    "ExecuteTime": {
     "end_time": "2023-10-21T07:48:20.672160100Z",
     "start_time": "2023-10-21T07:48:20.509945400Z"
    }
   }
  },
  {
   "cell_type": "markdown",
   "source": [
    "#### Happy coding!\n",
    "#### Build with Love :heart: using Python and nbdev in Jupyter Notebooks."
   ],
   "metadata": {
    "collapsed": false
   }
  },
  {
   "cell_type": "code",
   "execution_count": 12,
   "metadata": {
    "ExecuteTime": {
     "end_time": "2023-10-21T07:48:26.446247600Z",
     "start_time": "2023-10-21T07:48:20.547161100Z"
    }
   },
   "outputs": [],
   "source": [
    "#| hide\n",
    "from nbdev.quarto import nbdev_readme\n",
    "\n",
    "nbdev_readme()"
   ]
  },
  {
   "cell_type": "code",
   "execution_count": 12,
   "outputs": [],
   "source": [],
   "metadata": {
    "collapsed": false,
    "ExecuteTime": {
     "end_time": "2023-10-21T07:48:26.469167700Z",
     "start_time": "2023-10-21T07:48:26.449247800Z"
    }
   }
  }
 ],
 "metadata": {
  "kernelspec": {
   "display_name": "python3",
   "language": "python",
   "name": "python3"
  }
 },
 "nbformat": 4,
 "nbformat_minor": 4
}
