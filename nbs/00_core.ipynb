{
 "cells": [
  {
   "cell_type": "raw",
   "source": [
    "---\n",
    "title: core\n",
    "author: Rajendra Kumar R Yadav\n",
    "date: 2023-10-21\n",
    "description: This is a demo project. It is not intended to be used in production.\n",
    "tags: [nbdev, quarto, python, jupyter, demo]\n",
    "toc: true\n",
    "hide: false\n",
    "search_exclude: false\n",
    "format:\n",
    "    html:\n",
    "        code-fold: false\n",
    "---"
   ],
   "metadata": {
    "collapsed": false
   }
  },
  {
   "cell_type": "code",
   "execution_count": 5,
   "outputs": [],
   "source": [
    "#| default_exp core"
   ],
   "metadata": {
    "collapsed": false,
    "ExecuteTime": {
     "end_time": "2023-10-21T08:10:37.850892500Z",
     "start_time": "2023-10-21T08:10:37.795289900Z"
    }
   }
  },
  {
   "cell_type": "code",
   "execution_count": 6,
   "metadata": {
    "ExecuteTime": {
     "end_time": "2023-10-21T08:10:37.904893900Z",
     "start_time": "2023-10-21T08:10:37.806825600Z"
    }
   },
   "outputs": [],
   "source": [
    "#| hide\n",
    "from nbdev.showdoc import *"
   ]
  },
  {
   "cell_type": "code",
   "execution_count": 7,
   "metadata": {
    "ExecuteTime": {
     "end_time": "2023-10-21T08:10:37.906888900Z",
     "start_time": "2023-10-21T08:10:37.830319200Z"
    }
   },
   "outputs": [],
   "source": [
    "#| export\n",
    "def foo(): pass"
   ]
  },
  {
   "cell_type": "code",
   "execution_count": 8,
   "metadata": {
    "ExecuteTime": {
     "end_time": "2023-10-21T08:10:37.962332400Z",
     "start_time": "2023-10-21T08:10:37.847891300Z"
    }
   },
   "outputs": [],
   "source": [
    "#| hide\n",
    "import nbdev; nbdev.nbdev_export()"
   ]
  }
 ],
 "metadata": {
  "kernelspec": {
   "display_name": "python3",
   "language": "python",
   "name": "python3"
  }
 },
 "nbformat": 4,
 "nbformat_minor": 4
}
