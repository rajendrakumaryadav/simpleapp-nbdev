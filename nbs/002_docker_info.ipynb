{
 "cells": [
  {
   "cell_type": "markdown",
   "source": [
    "---\n",
    "title: docker\n",
    "author: Rajendra Kumar R Yadav\n",
    "date: 2023-10-21\n",
    "description: This is a demo project. It is not intended to be used in production.\n",
    "tags: [nbdev, quarto, python, jupyter, demo]\n",
    "toc: true\n",
    "hide: false\n",
    "search_exclude: false\n",
    "format:\n",
    "    html:\n",
    "        code-fold: false\n",
    "---"
   ],
   "metadata": {
    "collapsed": false
   },
   "id": "6b2eea6b1609ccae"
  },
  {
   "cell_type": "code",
   "execution_count": 8,
   "id": "initial_id",
   "metadata": {
    "collapsed": true,
    "ExecuteTime": {
     "end_time": "2023-10-21T08:14:55.401161100Z",
     "start_time": "2023-10-21T08:14:55.385084600Z"
    }
   },
   "outputs": [],
   "source": [
    "import docker"
   ]
  },
  {
   "cell_type": "code",
   "execution_count": 9,
   "outputs": [
    {
     "ename": "DockerException",
     "evalue": "Error while fetching server API version: (2, 'CreateFile', 'The system cannot find the file specified.')",
     "output_type": "error",
     "traceback": [
      "\u001B[1;31m---------------------------------------------------------------------------\u001B[0m",
      "\u001B[1;31merror\u001B[0m                                     Traceback (most recent call last)",
      "File \u001B[1;32m~\\.conda\\envs\\py3.11\\Lib\\site-packages\\docker\\api\\client.py:214\u001B[0m, in \u001B[0;36mAPIClient._retrieve_server_version\u001B[1;34m(self)\u001B[0m\n\u001B[0;32m    213\u001B[0m \u001B[38;5;28;01mtry\u001B[39;00m:\n\u001B[1;32m--> 214\u001B[0m     \u001B[38;5;28;01mreturn\u001B[39;00m \u001B[38;5;28mself\u001B[39m\u001B[38;5;241m.\u001B[39mversion(api_version\u001B[38;5;241m=\u001B[39m\u001B[38;5;28;01mFalse\u001B[39;00m)[\u001B[38;5;124m\"\u001B[39m\u001B[38;5;124mApiVersion\u001B[39m\u001B[38;5;124m\"\u001B[39m]\n\u001B[0;32m    215\u001B[0m \u001B[38;5;28;01mexcept\u001B[39;00m \u001B[38;5;167;01mKeyError\u001B[39;00m:\n",
      "File \u001B[1;32m~\\.conda\\envs\\py3.11\\Lib\\site-packages\\docker\\api\\daemon.py:181\u001B[0m, in \u001B[0;36mDaemonApiMixin.version\u001B[1;34m(self, api_version)\u001B[0m\n\u001B[0;32m    180\u001B[0m url \u001B[38;5;241m=\u001B[39m \u001B[38;5;28mself\u001B[39m\u001B[38;5;241m.\u001B[39m_url(\u001B[38;5;124m\"\u001B[39m\u001B[38;5;124m/version\u001B[39m\u001B[38;5;124m\"\u001B[39m, versioned_api\u001B[38;5;241m=\u001B[39mapi_version)\n\u001B[1;32m--> 181\u001B[0m \u001B[38;5;28;01mreturn\u001B[39;00m \u001B[38;5;28mself\u001B[39m\u001B[38;5;241m.\u001B[39m_result(\u001B[38;5;28mself\u001B[39m\u001B[38;5;241m.\u001B[39m_get(url), json\u001B[38;5;241m=\u001B[39m\u001B[38;5;28;01mTrue\u001B[39;00m)\n",
      "File \u001B[1;32m~\\.conda\\envs\\py3.11\\Lib\\site-packages\\docker\\utils\\decorators.py:46\u001B[0m, in \u001B[0;36mupdate_headers.<locals>.inner\u001B[1;34m(self, *args, **kwargs)\u001B[0m\n\u001B[0;32m     45\u001B[0m         kwargs[\u001B[38;5;124m'\u001B[39m\u001B[38;5;124mheaders\u001B[39m\u001B[38;5;124m'\u001B[39m]\u001B[38;5;241m.\u001B[39mupdate(\u001B[38;5;28mself\u001B[39m\u001B[38;5;241m.\u001B[39m_general_configs[\u001B[38;5;124m'\u001B[39m\u001B[38;5;124mHttpHeaders\u001B[39m\u001B[38;5;124m'\u001B[39m])\n\u001B[1;32m---> 46\u001B[0m \u001B[38;5;28;01mreturn\u001B[39;00m f(\u001B[38;5;28mself\u001B[39m, \u001B[38;5;241m*\u001B[39margs, \u001B[38;5;241m*\u001B[39m\u001B[38;5;241m*\u001B[39mkwargs)\n",
      "File \u001B[1;32m~\\.conda\\envs\\py3.11\\Lib\\site-packages\\docker\\api\\client.py:237\u001B[0m, in \u001B[0;36mAPIClient._get\u001B[1;34m(self, url, **kwargs)\u001B[0m\n\u001B[0;32m    235\u001B[0m \u001B[38;5;129m@update_headers\u001B[39m\n\u001B[0;32m    236\u001B[0m \u001B[38;5;28;01mdef\u001B[39;00m \u001B[38;5;21m_get\u001B[39m(\u001B[38;5;28mself\u001B[39m, url, \u001B[38;5;241m*\u001B[39m\u001B[38;5;241m*\u001B[39mkwargs):\n\u001B[1;32m--> 237\u001B[0m     \u001B[38;5;28;01mreturn\u001B[39;00m \u001B[38;5;28mself\u001B[39m\u001B[38;5;241m.\u001B[39mget(url, \u001B[38;5;241m*\u001B[39m\u001B[38;5;241m*\u001B[39m\u001B[38;5;28mself\u001B[39m\u001B[38;5;241m.\u001B[39m_set_request_timeout(kwargs))\n",
      "File \u001B[1;32m~\\AppData\\Roaming\\Python\\Python311\\site-packages\\requests\\sessions.py:600\u001B[0m, in \u001B[0;36mSession.get\u001B[1;34m(self, url, **kwargs)\u001B[0m\n\u001B[0;32m    599\u001B[0m kwargs\u001B[38;5;241m.\u001B[39msetdefault(\u001B[38;5;124m\"\u001B[39m\u001B[38;5;124mallow_redirects\u001B[39m\u001B[38;5;124m\"\u001B[39m, \u001B[38;5;28;01mTrue\u001B[39;00m)\n\u001B[1;32m--> 600\u001B[0m \u001B[38;5;28;01mreturn\u001B[39;00m \u001B[38;5;28mself\u001B[39m\u001B[38;5;241m.\u001B[39mrequest(\u001B[38;5;124m\"\u001B[39m\u001B[38;5;124mGET\u001B[39m\u001B[38;5;124m\"\u001B[39m, url, \u001B[38;5;241m*\u001B[39m\u001B[38;5;241m*\u001B[39mkwargs)\n",
      "File \u001B[1;32m~\\AppData\\Roaming\\Python\\Python311\\site-packages\\requests\\sessions.py:587\u001B[0m, in \u001B[0;36mSession.request\u001B[1;34m(self, method, url, params, data, headers, cookies, files, auth, timeout, allow_redirects, proxies, hooks, stream, verify, cert, json)\u001B[0m\n\u001B[0;32m    586\u001B[0m send_kwargs\u001B[38;5;241m.\u001B[39mupdate(settings)\n\u001B[1;32m--> 587\u001B[0m resp \u001B[38;5;241m=\u001B[39m \u001B[38;5;28mself\u001B[39m\u001B[38;5;241m.\u001B[39msend(prep, \u001B[38;5;241m*\u001B[39m\u001B[38;5;241m*\u001B[39msend_kwargs)\n\u001B[0;32m    589\u001B[0m \u001B[38;5;28;01mreturn\u001B[39;00m resp\n",
      "File \u001B[1;32m~\\AppData\\Roaming\\Python\\Python311\\site-packages\\requests\\sessions.py:701\u001B[0m, in \u001B[0;36mSession.send\u001B[1;34m(self, request, **kwargs)\u001B[0m\n\u001B[0;32m    700\u001B[0m \u001B[38;5;66;03m# Send the request\u001B[39;00m\n\u001B[1;32m--> 701\u001B[0m r \u001B[38;5;241m=\u001B[39m adapter\u001B[38;5;241m.\u001B[39msend(request, \u001B[38;5;241m*\u001B[39m\u001B[38;5;241m*\u001B[39mkwargs)\n\u001B[0;32m    703\u001B[0m \u001B[38;5;66;03m# Total elapsed time of the request (approximately)\u001B[39;00m\n",
      "File \u001B[1;32m~\\AppData\\Roaming\\Python\\Python311\\site-packages\\requests\\adapters.py:489\u001B[0m, in \u001B[0;36mHTTPAdapter.send\u001B[1;34m(self, request, stream, timeout, verify, cert, proxies)\u001B[0m\n\u001B[0;32m    488\u001B[0m \u001B[38;5;28;01mif\u001B[39;00m \u001B[38;5;129;01mnot\u001B[39;00m chunked:\n\u001B[1;32m--> 489\u001B[0m     resp \u001B[38;5;241m=\u001B[39m conn\u001B[38;5;241m.\u001B[39murlopen(\n\u001B[0;32m    490\u001B[0m         method\u001B[38;5;241m=\u001B[39mrequest\u001B[38;5;241m.\u001B[39mmethod,\n\u001B[0;32m    491\u001B[0m         url\u001B[38;5;241m=\u001B[39murl,\n\u001B[0;32m    492\u001B[0m         body\u001B[38;5;241m=\u001B[39mrequest\u001B[38;5;241m.\u001B[39mbody,\n\u001B[0;32m    493\u001B[0m         headers\u001B[38;5;241m=\u001B[39mrequest\u001B[38;5;241m.\u001B[39mheaders,\n\u001B[0;32m    494\u001B[0m         redirect\u001B[38;5;241m=\u001B[39m\u001B[38;5;28;01mFalse\u001B[39;00m,\n\u001B[0;32m    495\u001B[0m         assert_same_host\u001B[38;5;241m=\u001B[39m\u001B[38;5;28;01mFalse\u001B[39;00m,\n\u001B[0;32m    496\u001B[0m         preload_content\u001B[38;5;241m=\u001B[39m\u001B[38;5;28;01mFalse\u001B[39;00m,\n\u001B[0;32m    497\u001B[0m         decode_content\u001B[38;5;241m=\u001B[39m\u001B[38;5;28;01mFalse\u001B[39;00m,\n\u001B[0;32m    498\u001B[0m         retries\u001B[38;5;241m=\u001B[39m\u001B[38;5;28mself\u001B[39m\u001B[38;5;241m.\u001B[39mmax_retries,\n\u001B[0;32m    499\u001B[0m         timeout\u001B[38;5;241m=\u001B[39mtimeout,\n\u001B[0;32m    500\u001B[0m     )\n\u001B[0;32m    502\u001B[0m \u001B[38;5;66;03m# Send the request.\u001B[39;00m\n\u001B[0;32m    503\u001B[0m \u001B[38;5;28;01melse\u001B[39;00m:\n",
      "File \u001B[1;32m~\\AppData\\Roaming\\Python\\Python311\\site-packages\\urllib3\\connectionpool.py:703\u001B[0m, in \u001B[0;36mHTTPConnectionPool.urlopen\u001B[1;34m(self, method, url, body, headers, retries, redirect, assert_same_host, timeout, pool_timeout, release_conn, chunked, body_pos, **response_kw)\u001B[0m\n\u001B[0;32m    702\u001B[0m \u001B[38;5;66;03m# Make the request on the httplib connection object.\u001B[39;00m\n\u001B[1;32m--> 703\u001B[0m httplib_response \u001B[38;5;241m=\u001B[39m \u001B[38;5;28mself\u001B[39m\u001B[38;5;241m.\u001B[39m_make_request(\n\u001B[0;32m    704\u001B[0m     conn,\n\u001B[0;32m    705\u001B[0m     method,\n\u001B[0;32m    706\u001B[0m     url,\n\u001B[0;32m    707\u001B[0m     timeout\u001B[38;5;241m=\u001B[39mtimeout_obj,\n\u001B[0;32m    708\u001B[0m     body\u001B[38;5;241m=\u001B[39mbody,\n\u001B[0;32m    709\u001B[0m     headers\u001B[38;5;241m=\u001B[39mheaders,\n\u001B[0;32m    710\u001B[0m     chunked\u001B[38;5;241m=\u001B[39mchunked,\n\u001B[0;32m    711\u001B[0m )\n\u001B[0;32m    713\u001B[0m \u001B[38;5;66;03m# If we're going to release the connection in ``finally:``, then\u001B[39;00m\n\u001B[0;32m    714\u001B[0m \u001B[38;5;66;03m# the response doesn't need to know about the connection. Otherwise\u001B[39;00m\n\u001B[0;32m    715\u001B[0m \u001B[38;5;66;03m# it will also try to release it and we'll have a double-release\u001B[39;00m\n\u001B[0;32m    716\u001B[0m \u001B[38;5;66;03m# mess.\u001B[39;00m\n",
      "File \u001B[1;32m~\\AppData\\Roaming\\Python\\Python311\\site-packages\\urllib3\\connectionpool.py:398\u001B[0m, in \u001B[0;36mHTTPConnectionPool._make_request\u001B[1;34m(self, conn, method, url, timeout, chunked, **httplib_request_kw)\u001B[0m\n\u001B[0;32m    397\u001B[0m     \u001B[38;5;28;01melse\u001B[39;00m:\n\u001B[1;32m--> 398\u001B[0m         conn\u001B[38;5;241m.\u001B[39mrequest(method, url, \u001B[38;5;241m*\u001B[39m\u001B[38;5;241m*\u001B[39mhttplib_request_kw)\n\u001B[0;32m    400\u001B[0m \u001B[38;5;66;03m# We are swallowing BrokenPipeError (errno.EPIPE) since the server is\u001B[39;00m\n\u001B[0;32m    401\u001B[0m \u001B[38;5;66;03m# legitimately able to close the connection after sending a valid response.\u001B[39;00m\n\u001B[0;32m    402\u001B[0m \u001B[38;5;66;03m# With this behaviour, the received response is still readable.\u001B[39;00m\n",
      "File \u001B[1;32m~\\AppData\\Roaming\\Python\\Python311\\site-packages\\urllib3\\connection.py:239\u001B[0m, in \u001B[0;36mHTTPConnection.request\u001B[1;34m(self, method, url, body, headers)\u001B[0m\n\u001B[0;32m    238\u001B[0m     headers[\u001B[38;5;124m\"\u001B[39m\u001B[38;5;124mUser-Agent\u001B[39m\u001B[38;5;124m\"\u001B[39m] \u001B[38;5;241m=\u001B[39m _get_default_user_agent()\n\u001B[1;32m--> 239\u001B[0m \u001B[38;5;28msuper\u001B[39m(HTTPConnection, \u001B[38;5;28mself\u001B[39m)\u001B[38;5;241m.\u001B[39mrequest(method, url, body\u001B[38;5;241m=\u001B[39mbody, headers\u001B[38;5;241m=\u001B[39mheaders)\n",
      "File \u001B[1;32m~\\.conda\\envs\\py3.11\\Lib\\http\\client.py:1286\u001B[0m, in \u001B[0;36mHTTPConnection.request\u001B[1;34m(self, method, url, body, headers, encode_chunked)\u001B[0m\n\u001B[0;32m   1285\u001B[0m \u001B[38;5;250m\u001B[39m\u001B[38;5;124;03m\"\"\"Send a complete request to the server.\"\"\"\u001B[39;00m\n\u001B[1;32m-> 1286\u001B[0m \u001B[38;5;28mself\u001B[39m\u001B[38;5;241m.\u001B[39m_send_request(method, url, body, headers, encode_chunked)\n",
      "File \u001B[1;32m~\\.conda\\envs\\py3.11\\Lib\\http\\client.py:1332\u001B[0m, in \u001B[0;36mHTTPConnection._send_request\u001B[1;34m(self, method, url, body, headers, encode_chunked)\u001B[0m\n\u001B[0;32m   1331\u001B[0m     body \u001B[38;5;241m=\u001B[39m _encode(body, \u001B[38;5;124m'\u001B[39m\u001B[38;5;124mbody\u001B[39m\u001B[38;5;124m'\u001B[39m)\n\u001B[1;32m-> 1332\u001B[0m \u001B[38;5;28mself\u001B[39m\u001B[38;5;241m.\u001B[39mendheaders(body, encode_chunked\u001B[38;5;241m=\u001B[39mencode_chunked)\n",
      "File \u001B[1;32m~\\.conda\\envs\\py3.11\\Lib\\http\\client.py:1281\u001B[0m, in \u001B[0;36mHTTPConnection.endheaders\u001B[1;34m(self, message_body, encode_chunked)\u001B[0m\n\u001B[0;32m   1280\u001B[0m     \u001B[38;5;28;01mraise\u001B[39;00m CannotSendHeader()\n\u001B[1;32m-> 1281\u001B[0m \u001B[38;5;28mself\u001B[39m\u001B[38;5;241m.\u001B[39m_send_output(message_body, encode_chunked\u001B[38;5;241m=\u001B[39mencode_chunked)\n",
      "File \u001B[1;32m~\\.conda\\envs\\py3.11\\Lib\\http\\client.py:1041\u001B[0m, in \u001B[0;36mHTTPConnection._send_output\u001B[1;34m(self, message_body, encode_chunked)\u001B[0m\n\u001B[0;32m   1040\u001B[0m \u001B[38;5;28;01mdel\u001B[39;00m \u001B[38;5;28mself\u001B[39m\u001B[38;5;241m.\u001B[39m_buffer[:]\n\u001B[1;32m-> 1041\u001B[0m \u001B[38;5;28mself\u001B[39m\u001B[38;5;241m.\u001B[39msend(msg)\n\u001B[0;32m   1043\u001B[0m \u001B[38;5;28;01mif\u001B[39;00m message_body \u001B[38;5;129;01mis\u001B[39;00m \u001B[38;5;129;01mnot\u001B[39;00m \u001B[38;5;28;01mNone\u001B[39;00m:\n\u001B[0;32m   1044\u001B[0m \n\u001B[0;32m   1045\u001B[0m     \u001B[38;5;66;03m# create a consistent interface to message_body\u001B[39;00m\n",
      "File \u001B[1;32m~\\.conda\\envs\\py3.11\\Lib\\http\\client.py:979\u001B[0m, in \u001B[0;36mHTTPConnection.send\u001B[1;34m(self, data)\u001B[0m\n\u001B[0;32m    978\u001B[0m \u001B[38;5;28;01mif\u001B[39;00m \u001B[38;5;28mself\u001B[39m\u001B[38;5;241m.\u001B[39mauto_open:\n\u001B[1;32m--> 979\u001B[0m     \u001B[38;5;28mself\u001B[39m\u001B[38;5;241m.\u001B[39mconnect()\n\u001B[0;32m    980\u001B[0m \u001B[38;5;28;01melse\u001B[39;00m:\n",
      "File \u001B[1;32m~\\.conda\\envs\\py3.11\\Lib\\site-packages\\docker\\transport\\npipeconn.py:25\u001B[0m, in \u001B[0;36mNpipeHTTPConnection.connect\u001B[1;34m(self)\u001B[0m\n\u001B[0;32m     24\u001B[0m sock\u001B[38;5;241m.\u001B[39msettimeout(\u001B[38;5;28mself\u001B[39m\u001B[38;5;241m.\u001B[39mtimeout)\n\u001B[1;32m---> 25\u001B[0m sock\u001B[38;5;241m.\u001B[39mconnect(\u001B[38;5;28mself\u001B[39m\u001B[38;5;241m.\u001B[39mnpipe_path)\n\u001B[0;32m     26\u001B[0m \u001B[38;5;28mself\u001B[39m\u001B[38;5;241m.\u001B[39msock \u001B[38;5;241m=\u001B[39m sock\n",
      "File \u001B[1;32m~\\.conda\\envs\\py3.11\\Lib\\site-packages\\docker\\transport\\npipesocket.py:25\u001B[0m, in \u001B[0;36mcheck_closed.<locals>.wrapped\u001B[1;34m(self, *args, **kwargs)\u001B[0m\n\u001B[0;32m     22\u001B[0m     \u001B[38;5;28;01mraise\u001B[39;00m \u001B[38;5;167;01mRuntimeError\u001B[39;00m(\n\u001B[0;32m     23\u001B[0m         \u001B[38;5;124m'\u001B[39m\u001B[38;5;124mCan not reuse socket after connection was closed.\u001B[39m\u001B[38;5;124m'\u001B[39m\n\u001B[0;32m     24\u001B[0m     )\n\u001B[1;32m---> 25\u001B[0m \u001B[38;5;28;01mreturn\u001B[39;00m f(\u001B[38;5;28mself\u001B[39m, \u001B[38;5;241m*\u001B[39margs, \u001B[38;5;241m*\u001B[39m\u001B[38;5;241m*\u001B[39mkwargs)\n",
      "File \u001B[1;32m~\\.conda\\envs\\py3.11\\Lib\\site-packages\\docker\\transport\\npipesocket.py:76\u001B[0m, in \u001B[0;36mNpipeSocket.connect\u001B[1;34m(self, address, retry_count)\u001B[0m\n\u001B[0;32m     75\u001B[0m             \u001B[38;5;28;01mreturn\u001B[39;00m \u001B[38;5;28mself\u001B[39m\u001B[38;5;241m.\u001B[39mconnect(address, retry_count)\n\u001B[1;32m---> 76\u001B[0m     \u001B[38;5;28;01mraise\u001B[39;00m e\n\u001B[0;32m     78\u001B[0m \u001B[38;5;28mself\u001B[39m\u001B[38;5;241m.\u001B[39mflags \u001B[38;5;241m=\u001B[39m win32pipe\u001B[38;5;241m.\u001B[39mGetNamedPipeInfo(handle)[\u001B[38;5;241m0\u001B[39m]\n",
      "File \u001B[1;32m~\\.conda\\envs\\py3.11\\Lib\\site-packages\\docker\\transport\\npipesocket.py:54\u001B[0m, in \u001B[0;36mNpipeSocket.connect\u001B[1;34m(self, address, retry_count)\u001B[0m\n\u001B[0;32m     53\u001B[0m \u001B[38;5;28;01mtry\u001B[39;00m:\n\u001B[1;32m---> 54\u001B[0m     handle \u001B[38;5;241m=\u001B[39m win32file\u001B[38;5;241m.\u001B[39mCreateFile(\n\u001B[0;32m     55\u001B[0m         address,\n\u001B[0;32m     56\u001B[0m         win32file\u001B[38;5;241m.\u001B[39mGENERIC_READ \u001B[38;5;241m|\u001B[39m win32file\u001B[38;5;241m.\u001B[39mGENERIC_WRITE,\n\u001B[0;32m     57\u001B[0m         \u001B[38;5;241m0\u001B[39m,\n\u001B[0;32m     58\u001B[0m         \u001B[38;5;28;01mNone\u001B[39;00m,\n\u001B[0;32m     59\u001B[0m         win32file\u001B[38;5;241m.\u001B[39mOPEN_EXISTING,\n\u001B[0;32m     60\u001B[0m         (cSECURITY_ANONYMOUS\n\u001B[0;32m     61\u001B[0m             \u001B[38;5;241m|\u001B[39m cSECURITY_SQOS_PRESENT\n\u001B[0;32m     62\u001B[0m             \u001B[38;5;241m|\u001B[39m win32file\u001B[38;5;241m.\u001B[39mFILE_FLAG_OVERLAPPED),\n\u001B[0;32m     63\u001B[0m         \u001B[38;5;241m0\u001B[39m\n\u001B[0;32m     64\u001B[0m     )\n\u001B[0;32m     65\u001B[0m \u001B[38;5;28;01mexcept\u001B[39;00m win32pipe\u001B[38;5;241m.\u001B[39merror \u001B[38;5;28;01mas\u001B[39;00m e:\n\u001B[0;32m     66\u001B[0m     \u001B[38;5;66;03m# See Remarks:\u001B[39;00m\n\u001B[0;32m     67\u001B[0m     \u001B[38;5;66;03m# https://msdn.microsoft.com/en-us/library/aa365800.aspx\u001B[39;00m\n",
      "\u001B[1;31merror\u001B[0m: (2, 'CreateFile', 'The system cannot find the file specified.')",
      "\nDuring handling of the above exception, another exception occurred:\n",
      "\u001B[1;31mDockerException\u001B[0m                           Traceback (most recent call last)",
      "Cell \u001B[1;32mIn[9], line 1\u001B[0m\n\u001B[1;32m----> 1\u001B[0m client \u001B[38;5;241m=\u001B[39m docker\u001B[38;5;241m.\u001B[39mfrom_env()\n",
      "File \u001B[1;32m~\\.conda\\envs\\py3.11\\Lib\\site-packages\\docker\\client.py:96\u001B[0m, in \u001B[0;36mDockerClient.from_env\u001B[1;34m(cls, **kwargs)\u001B[0m\n\u001B[0;32m     94\u001B[0m version \u001B[38;5;241m=\u001B[39m kwargs\u001B[38;5;241m.\u001B[39mpop(\u001B[38;5;124m'\u001B[39m\u001B[38;5;124mversion\u001B[39m\u001B[38;5;124m'\u001B[39m, \u001B[38;5;28;01mNone\u001B[39;00m)\n\u001B[0;32m     95\u001B[0m use_ssh_client \u001B[38;5;241m=\u001B[39m kwargs\u001B[38;5;241m.\u001B[39mpop(\u001B[38;5;124m'\u001B[39m\u001B[38;5;124muse_ssh_client\u001B[39m\u001B[38;5;124m'\u001B[39m, \u001B[38;5;28;01mFalse\u001B[39;00m)\n\u001B[1;32m---> 96\u001B[0m \u001B[38;5;28;01mreturn\u001B[39;00m \u001B[38;5;28mcls\u001B[39m(\n\u001B[0;32m     97\u001B[0m     timeout\u001B[38;5;241m=\u001B[39mtimeout,\n\u001B[0;32m     98\u001B[0m     max_pool_size\u001B[38;5;241m=\u001B[39mmax_pool_size,\n\u001B[0;32m     99\u001B[0m     version\u001B[38;5;241m=\u001B[39mversion,\n\u001B[0;32m    100\u001B[0m     use_ssh_client\u001B[38;5;241m=\u001B[39muse_ssh_client,\n\u001B[0;32m    101\u001B[0m     \u001B[38;5;241m*\u001B[39m\u001B[38;5;241m*\u001B[39mkwargs_from_env(\u001B[38;5;241m*\u001B[39m\u001B[38;5;241m*\u001B[39mkwargs)\n\u001B[0;32m    102\u001B[0m )\n",
      "File \u001B[1;32m~\\.conda\\envs\\py3.11\\Lib\\site-packages\\docker\\client.py:45\u001B[0m, in \u001B[0;36mDockerClient.__init__\u001B[1;34m(self, *args, **kwargs)\u001B[0m\n\u001B[0;32m     44\u001B[0m \u001B[38;5;28;01mdef\u001B[39;00m \u001B[38;5;21m__init__\u001B[39m(\u001B[38;5;28mself\u001B[39m, \u001B[38;5;241m*\u001B[39margs, \u001B[38;5;241m*\u001B[39m\u001B[38;5;241m*\u001B[39mkwargs):\n\u001B[1;32m---> 45\u001B[0m     \u001B[38;5;28mself\u001B[39m\u001B[38;5;241m.\u001B[39mapi \u001B[38;5;241m=\u001B[39m APIClient(\u001B[38;5;241m*\u001B[39margs, \u001B[38;5;241m*\u001B[39m\u001B[38;5;241m*\u001B[39mkwargs)\n",
      "File \u001B[1;32m~\\.conda\\envs\\py3.11\\Lib\\site-packages\\docker\\api\\client.py:197\u001B[0m, in \u001B[0;36mAPIClient.__init__\u001B[1;34m(self, base_url, version, timeout, tls, user_agent, num_pools, credstore_env, use_ssh_client, max_pool_size)\u001B[0m\n\u001B[0;32m    192\u001B[0m \u001B[38;5;66;03m# version detection needs to be after unix adapter mounting\u001B[39;00m\n\u001B[0;32m    193\u001B[0m \u001B[38;5;28;01mif\u001B[39;00m version \u001B[38;5;129;01mis\u001B[39;00m \u001B[38;5;28;01mNone\u001B[39;00m \u001B[38;5;129;01mor\u001B[39;00m (\u001B[38;5;28misinstance\u001B[39m(\n\u001B[0;32m    194\u001B[0m                         version,\n\u001B[0;32m    195\u001B[0m                         \u001B[38;5;28mstr\u001B[39m\n\u001B[0;32m    196\u001B[0m                         ) \u001B[38;5;129;01mand\u001B[39;00m version\u001B[38;5;241m.\u001B[39mlower() \u001B[38;5;241m==\u001B[39m \u001B[38;5;124m'\u001B[39m\u001B[38;5;124mauto\u001B[39m\u001B[38;5;124m'\u001B[39m):\n\u001B[1;32m--> 197\u001B[0m     \u001B[38;5;28mself\u001B[39m\u001B[38;5;241m.\u001B[39m_version \u001B[38;5;241m=\u001B[39m \u001B[38;5;28mself\u001B[39m\u001B[38;5;241m.\u001B[39m_retrieve_server_version()\n\u001B[0;32m    198\u001B[0m \u001B[38;5;28;01melse\u001B[39;00m:\n\u001B[0;32m    199\u001B[0m     \u001B[38;5;28mself\u001B[39m\u001B[38;5;241m.\u001B[39m_version \u001B[38;5;241m=\u001B[39m version\n",
      "File \u001B[1;32m~\\.conda\\envs\\py3.11\\Lib\\site-packages\\docker\\api\\client.py:221\u001B[0m, in \u001B[0;36mAPIClient._retrieve_server_version\u001B[1;34m(self)\u001B[0m\n\u001B[0;32m    216\u001B[0m     \u001B[38;5;28;01mraise\u001B[39;00m DockerException(\n\u001B[0;32m    217\u001B[0m         \u001B[38;5;124m'\u001B[39m\u001B[38;5;124mInvalid response from docker daemon: key \u001B[39m\u001B[38;5;124m\"\u001B[39m\u001B[38;5;124mApiVersion\u001B[39m\u001B[38;5;124m\"\u001B[39m\u001B[38;5;124m'\u001B[39m\n\u001B[0;32m    218\u001B[0m         \u001B[38;5;124m'\u001B[39m\u001B[38;5;124m is missing.\u001B[39m\u001B[38;5;124m'\u001B[39m\n\u001B[0;32m    219\u001B[0m     )\n\u001B[0;32m    220\u001B[0m \u001B[38;5;28;01mexcept\u001B[39;00m \u001B[38;5;167;01mException\u001B[39;00m \u001B[38;5;28;01mas\u001B[39;00m e:\n\u001B[1;32m--> 221\u001B[0m     \u001B[38;5;28;01mraise\u001B[39;00m DockerException(\n\u001B[0;32m    222\u001B[0m         \u001B[38;5;124mf\u001B[39m\u001B[38;5;124m'\u001B[39m\u001B[38;5;124mError while fetching server API version: \u001B[39m\u001B[38;5;132;01m{\u001B[39;00me\u001B[38;5;132;01m}\u001B[39;00m\u001B[38;5;124m'\u001B[39m\n\u001B[0;32m    223\u001B[0m     )\n",
      "\u001B[1;31mDockerException\u001B[0m: Error while fetching server API version: (2, 'CreateFile', 'The system cannot find the file specified.')"
     ]
    }
   ],
   "source": [
    "client = docker.from_env()"
   ],
   "metadata": {
    "collapsed": false,
    "ExecuteTime": {
     "end_time": "2023-10-21T08:14:55.733408400Z",
     "start_time": "2023-10-21T08:14:55.398161700Z"
    }
   },
   "id": "a8516d80e576954c"
  },
  {
   "cell_type": "code",
   "execution_count": null,
   "outputs": [],
   "source": [
    "# show containers as json\n",
    "\n",
    "for container in client.containers.list():\n",
    "    print(container.attrs['Config']['Image'],\":\", container.attrs['Config'])"
   ],
   "metadata": {
    "collapsed": false,
    "ExecuteTime": {
     "end_time": "2023-10-21T08:14:55.739404700Z",
     "start_time": "2023-10-21T08:14:55.736407700Z"
    }
   },
   "id": "804621d674dcc7c8"
  }
 ],
 "metadata": {
  "kernelspec": {
   "display_name": "Python 3",
   "language": "python",
   "name": "python3"
  },
  "language_info": {
   "codemirror_mode": {
    "name": "ipython",
    "version": 2
   },
   "file_extension": ".py",
   "mimetype": "text/x-python",
   "name": "python",
   "nbconvert_exporter": "python",
   "pygments_lexer": "ipython2",
   "version": "2.7.6"
  }
 },
 "nbformat": 4,
 "nbformat_minor": 5
}
